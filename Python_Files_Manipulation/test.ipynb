{
 "cells": [
  {
   "cell_type": "code",
   "execution_count": 1,
   "metadata": {},
   "outputs": [],
   "source": [
    "import os\n",
    "import pandas as pd\n",
    "from pandas import DataFrame, Series\n",
    "from shutil import copy \n",
    "import shutil\n",
    "from shutil import move             \n"
   ]
  },
  {
   "cell_type": "code",
   "execution_count": 2,
   "metadata": {},
   "outputs": [],
   "source": [
    "file = pd.read_excel('DuiYingGuanXi.xlsx', header = 0)\n"
   ]
  },
  {
   "cell_type": "code",
   "execution_count": 3,
   "metadata": {
    "scrolled": false
   },
   "outputs": [],
   "source": [
    "l = []\n",
    "for file in file[\"目标路径\"]:\n",
    "    l.append(file)"
   ]
  },
  {
   "cell_type": "code",
   "execution_count": 4,
   "metadata": {},
   "outputs": [],
   "source": [
    "new_file = pd.read_excel('DuiYingGuanXi.xlsx', header = 0)\n",
    "f = []\n",
    "for file in new_file[\"目标文件名\"]:\n",
    "    f.append(file)"
   ]
  },
  {
   "cell_type": "code",
   "execution_count": 5,
   "metadata": {
    "scrolled": false
   },
   "outputs": [],
   "source": [
    "if __name__ == '__main__':\n",
    "    src_path = \"C:\\\\Users\\Administrator\\sohu_test\"\n",
    "    files = [f for f in os.listdir(src_path) if os.path.isfile(f) and f.endswith(\".wav\")]\n",
    "    files.sort(key=lambda x: int(x[:-4]))\n",
    "\n",
    "    for i in range(len(files)):\n",
    "        if not os.path.isdir(l[i]):\n",
    "            os.makedirs(l[i])       \n",
    "        shutil.move(files[i], f[i])"
   ]
  },
  {
   "cell_type": "code",
   "execution_count": 6,
   "metadata": {},
   "outputs": [],
   "source": [
    "src_path = \"C:\\\\Users\\Administrator\\sohu_test\"\n",
    "files = [f for f in os.listdir(src_path) if os.path.isfile(f) and f.endswith(\".wav\")]\n",
    "\n",
    "for file in files:\n",
    "    for i in range(len(files)):\n",
    "            copy(files[i], l[i])"
   ]
  }
 ],
 "metadata": {
  "kernelspec": {
   "display_name": "Python 3",
   "language": "python",
   "name": "python3"
  },
  "language_info": {
   "codemirror_mode": {
    "name": "ipython",
    "version": 3
   },
   "file_extension": ".py",
   "mimetype": "text/x-python",
   "name": "python",
   "nbconvert_exporter": "python",
   "pygments_lexer": "ipython3",
   "version": "3.8.5"
  }
 },
 "nbformat": 4,
 "nbformat_minor": 4
}
